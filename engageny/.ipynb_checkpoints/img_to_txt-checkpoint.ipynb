{
 "cells": [
  {
   "cell_type": "code",
   "execution_count": null,
   "id": "7a54d59a-f69c-4eae-85da-dc8133524f81",
   "metadata": {},
   "outputs": [],
   "source": [
    "from PIL import Image\n",
    "import sys\n",
    "import pyocr\n",
    "import pyocr.builders\n",
    "import os"
   ]
  },
  {
   "cell_type": "code",
   "execution_count": null,
   "id": "4badbe2f-13e8-4191-bdf6-d22109222371",
   "metadata": {},
   "outputs": [],
   "source": [
    "tools = pyocr.get_available_tools()"
   ]
  },
  {
   "cell_type": "code",
   "execution_count": null,
   "id": "5f533044-c880-4623-8a2d-01a3ac4aa768",
   "metadata": {},
   "outputs": [],
   "source": [
    "tools"
   ]
  },
  {
   "cell_type": "code",
   "execution_count": null,
   "id": "2630b818-947f-4676-b16d-eda237419f20",
   "metadata": {},
   "outputs": [],
   "source": [
    "tool = tools[0]\n",
    "langs = tool.get_available_languages()"
   ]
  },
  {
   "cell_type": "code",
   "execution_count": null,
   "id": "797921a1-57f5-4a85-b6c1-be323eb97062",
   "metadata": {},
   "outputs": [],
   "source": [
    "lang = \"eng\""
   ]
  },
  {
   "cell_type": "code",
   "execution_count": null,
   "id": "eacf6cd2-a015-4177-88e5-d4797762b97a",
   "metadata": {},
   "outputs": [],
   "source": [
    "txt = tool.image_to_string(\n",
    "    Image.open('grade1/outp/math-g3-m1-full-module-0.png'),\n",
    "    lang=lang,\n",
    "    builder=pyocr.builders.TextBuilder()\n",
    ")"
   ]
  },
  {
   "cell_type": "code",
   "execution_count": null,
   "id": "19bc3e08-3163-4212-a39c-94adbd60dfe4",
   "metadata": {},
   "outputs": [],
   "source": [
    "print(txt)"
   ]
  },
  {
   "cell_type": "markdown",
   "id": "c80b314a-1863-431d-9fa2-d9d4c738159f",
   "metadata": {},
   "source": [
    "## All grades processing"
   ]
  },
  {
   "cell_type": "code",
   "execution_count": null,
   "id": "235a5d76-6736-4030-88ba-81fe1f5c986e",
   "metadata": {},
   "outputs": [],
   "source": [
    "all_grades = [3,4,5]\n",
    "\n",
    "for grade in all_grades:\n",
    "    \n",
    "    fnms = os.listdir(\"grade\" + str(grade) + \"/outp\")\n",
    "    \n",
    "    for fname in fnms:\n",
    "        if fname.endswith(\".png\"):\n",
    "            fpath = os.path.join(\"grade\" + str(grade), \"outp\", fname)\n",
    "            print(fpath)\n",
    "            txt = tool.image_to_string(\n",
    "                Image.open(fpath),\n",
    "                lang=lang,\n",
    "                builder=pyocr.builders.TextBuilder()\n",
    "            )\n",
    "            #print(txt)\n",
    "            with open(os.path.join(\"grade\" + str(grade), \"outp\", os.path.basename(fname) + \".txt\"), 'w') as f:\n",
    "                f.write(txt)"
   ]
  },
  {
   "cell_type": "code",
   "execution_count": null,
   "id": "e6454ec1-de80-4410-9eb8-f4dbdd8170f6",
   "metadata": {},
   "outputs": [],
   "source": []
  }
 ],
 "metadata": {
  "kernelspec": {
   "display_name": "Python 3",
   "language": "python",
   "name": "python3"
  },
  "language_info": {
   "codemirror_mode": {
    "name": "ipython",
    "version": 3
   },
   "file_extension": ".py",
   "mimetype": "text/x-python",
   "name": "python",
   "nbconvert_exporter": "python",
   "pygments_lexer": "ipython3",
   "version": "3.9.2"
  }
 },
 "nbformat": 4,
 "nbformat_minor": 5
}
