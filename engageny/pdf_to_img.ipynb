{
 "cells": [
  {
   "cell_type": "code",
   "execution_count": null,
   "id": "4b398d75-15d9-48b5-888d-5e803c57d525",
   "metadata": {},
   "outputs": [],
   "source": [
    "from os import listdir, system\n",
    "from os.path import isfile, join, basename, splitext\n",
    "import glob"
   ]
  },
  {
   "cell_type": "code",
   "execution_count": null,
   "id": "c6df172b-1fdb-4e1e-8d3d-64e6edea1c3d",
   "metadata": {},
   "outputs": [],
   "source": [
    "all_grades = [3,4,5]\n",
    "\n",
    "for g in all_grades:\n",
    "    pdf_glob = \"grade\" + str(g) + \"/*.pdf\"\n",
    "    pdf_files = glob.glob(pdf_glob)\n",
    "    pdf_basenames = [splitext(basename(f))[0] for f in pdf_files]\n",
    "    \n",
    "    for pdfbnm in pdf_basenames:\n",
    "        cmd = \"convert -density 150 \" + \"grade\" + str(g) + \"/\" + pdfbnm + \".pdf\" + \" -quality 100 -alpha remove \" + \"grade\" + str(g) + \"/outp/\" + pdfbnm + \".png\"\n",
    "        print(cmd)\n",
    "        system(cmd)\n",
    "        "
   ]
  }
 ],
 "metadata": {
  "kernelspec": {
   "display_name": "Python 3",
   "language": "python",
   "name": "python3"
  },
  "language_info": {
   "codemirror_mode": {
    "name": "ipython",
    "version": 3
   },
   "file_extension": ".py",
   "mimetype": "text/x-python",
   "name": "python",
   "nbconvert_exporter": "python",
   "pygments_lexer": "ipython3",
   "version": "3.9.2"
  }
 },
 "nbformat": 4,
 "nbformat_minor": 5
}
